{
 "cells": [
  {
   "cell_type": "code",
   "execution_count": 3,
   "id": "37e43725-a8ea-430d-bb6a-82da0bedda99",
   "metadata": {},
   "outputs": [],
   "source": [
    "import qiskit\n",
    "from qiskit import *\n",
    "from qiskit import Aer\n"
   ]
  },
  {
   "cell_type": "code",
   "execution_count": 4,
   "id": "330ba9fd-a777-4e42-ab1e-bf8d885c5d2e",
   "metadata": {},
   "outputs": [],
   "source": [
    "from qiskit import QuantumCircuit, Aer, transpile, assemble\n",
    "from qiskit.visualization import plot_histogram, plot_bloch_multivector\n",
    "from numpy.random import randint\n",
    "import numpy as np"
   ]
  },
  {
   "cell_type": "code",
   "execution_count": 5,
   "id": "5850fbd8-2f63-4eee-ad6c-e3ecc8d2bcf3",
   "metadata": {},
   "outputs": [
    {
     "name": "stdout",
     "output_type": "stream",
     "text": [
      
     ]
    }
   ],
   "source": [
    "pip install quantuminspire"
   ]
  },
  {
   "cell_type": "code",
   "execution_count": 6,
   "id": "989a69b8-2fd9-481a-97de-ca23336e62e9",
   "metadata": {},
  
   "source": [
    "!pip install qiskit\n",
    "from getpass import getpass\n",
    "from qiskit.circuit import QuantumRegister, ClassicalRegister, QuantumCircuit\n",
    "from quantuminspire.qiskit import QI"
   ]
  },
  {
   "cell_type": "code",
   "execution_count": 7,
   "id": "c88392c6-521d-4adc-a85c-a4503f4f1f1a",
   "metadata": {},
   "outputs": [],
   "source": [
    "def get_authentication():\n",
    "    \"\"\"Gets the authentication for connecting to the\n",
    "       Quantum Inspire API.\n",
    "    \"\"\"\n",
    "    print(\"Enter email:\")\n",
    "    email = input()\n",
    "    print(\"Enter password\")\n",
    "    password = getpass()\n",
    "    return email, password "
   ]
  },
  {
   "cell_type": "code",
   "execution_count": 8,
   "id": "8b6da72c-d7ea-4ba1-ad20-80bb0c128a85",
   "metadata": {},
   "outputs": [
    {
     "name": "stdout",
     "output_type": "stream",
     "text": [
      "Enter email:\n"
     ]
    },
    {
     "name": "stdin",
     "output_type": "stream",
     "text": [
      " thethomasverrill@gmail.com\n"
     ]
    },
    {
     "name": "stdout",
     "output_type": "stream",
     "text": [
      "Enter password\n"
     ]
    },
    {
     "name": "stdin",
     "output_type": "stream",
     "text": [
      " ····················\n"
     ]
    }
   ],
   "source": [
    "if __name__ == '__main__':\n",
    "    if 'authentication' not in vars().keys():\n",
    "        authentication = get_authentication()\n",
    "    QI.set_authentication_details(*authentication)\n",
    "    qi_backend = QI.get_backend('Starmon-5')"
   ]
  },
  {
   "cell_type": "code",
   "execution_count": 103,
   "id": "335b583e-7c7d-4cf4-8402-4e30ab5893c2",
   "metadata": {},
   "outputs": [
    {
     "name": "stdout",
     "output_type": "stream",
     "text": [
      "Alice, please input random 5-bit string: \n"
     ]
    },
    {
     "name": "stdin",
     "output_type": "stream",
     "text": [
      " 10010\n"
     ]
    },
    {
     "name": "stdout",
     "output_type": "stream",
     "text": [
      "Alice, please input random 5-basis string consisting of X or Z: \n"
     ]
    },
    {
     "name": "stdin",
     "output_type": "stream",
     "text": [
      " XXZZX\n"
     ]
    },
    {
     "name": "stdout",
     "output_type": "stream",
     "text": [
      "Bob, please input random 5-basis string consisting of X or Z: \n"
     ]
    },
    {
     "name": "stdin",
     "output_type": "stream",
     "text": [
      " XXXZX\n"
     ]
    },
    {
     "name": "stdout",
     "output_type": "stream",
     "text": [
      "['X', 'X', '0', 'Z', 'X']\n"
     ]
    },
    {
     "data": {
      "text/html": [
       "<pre style=\"word-wrap: normal;white-space: pre;background: #fff0;line-height: 1.1;font-family: &quot;Courier New&quot;,Courier,monospace\">        ┌───┐┌───┐┌───┐      ┌─┐\n",
       "q182_0: ┤ X ├┤ H ├┤ H ├──────┤M├\n",
       "        ├───┤├───┤└───┘┌─┐   └╥┘\n",
       "q182_1: ┤ H ├┤ H ├─────┤M├────╫─\n",
       "        └───┘└───┘     └╥┘    ║ \n",
       "q182_2: ────────────────╫─────╫─\n",
       "        ┌───┐ ┌─┐       ║     ║ \n",
       "q182_3: ┤ X ├─┤M├───────╫─────╫─\n",
       "        ├───┤ └╥┘ ┌───┐ ║ ┌─┐ ║ \n",
       "q182_4: ┤ H ├──╫──┤ H ├─╫─┤M├─╫─\n",
       "        └───┘  ║  └───┘ ║ └╥┘ ║ \n",
       " c20: 5/═══════╩════════╩══╩══╩═\n",
       "               3        1  4  0 </pre>"
      ],
      "text/plain": [
       "        ┌───┐┌───┐┌───┐      ┌─┐\n",
       "q182_0: ┤ X ├┤ H ├┤ H ├──────┤M├\n",
       "        ├───┤├───┤└───┘┌─┐   └╥┘\n",
       "q182_1: ┤ H ├┤ H ├─────┤M├────╫─\n",
       "        └───┘└───┘     └╥┘    ║ \n",
       "q182_2: ────────────────╫─────╫─\n",
       "        ┌───┐ ┌─┐       ║     ║ \n",
       "q182_3: ┤ X ├─┤M├───────╫─────╫─\n",
       "        ├───┤ └╥┘ ┌───┐ ║ ┌─┐ ║ \n",
       "q182_4: ┤ H ├──╫──┤ H ├─╫─┤M├─╫─\n",
       "        └───┘  ║  └───┘ ║ └╥┘ ║ \n",
       " c20: 5/═══════╩════════╩══╩══╩═\n",
       "               3        1  4  0 "
      ]
     },
     "metadata": {},
     "output_type": "display_data"
    },
    {
     "name": "stdout",
     "output_type": "stream",
     "text": [
      "\n",
      "State\tCounts\n",
      "00000\t2\n",
      "00001\t25\n",
      "01000\t17\n",
      "01001\t196\n",
      "01011\t7\n",
      "10001\t2\n",
      "11000\t1\n",
      "11001\t5\n",
      "11011\t1\n"
     ]
    },
    {
     "data": {
      "text/plain": [
       "[None, None, None, None, None, None, None, None, None]"
      ]
     },
     "execution_count": 103,
     "metadata": {},
     "output_type": "execute_result"
    }
   ],
   "source": [
    "    n = 5\n",
    "    q = QuantumRegister(n)\n",
    "    b = ClassicalRegister(n)\n",
    "    qc = QuantumCircuit(q, b)\n",
    "#    qc.h(q[0])\n",
    "    \n",
    "    print(\"Alice, please input random 5-bit string: \")\n",
    "abits = input()\n",
    "print(\"Alice, please input random 5-basis string consisting of X or Z: \")\n",
    "abases = input()\n",
    "print(\"Bob, please input random 5-basis string consisting of X or Z: \")\n",
    "bbases = input()\n",
    "    \n",
    "abit_map = map(int, abits)\n",
    "abit_list = list(abit_map)\n",
    "\n",
    "abases_map = map(str, abases)\n",
    "abases_list = list(abases_map)\n",
    "\n",
    "bbases_map = map(str, bbases)\n",
    "bbases_list = list(bbases_map)\n",
    "\n",
    "\n",
    "\n",
    "def encrypt_qubits(bases, bits, n1):\n",
    "        for i in range(n1):\n",
    "            if bases[i] == 'Z':\n",
    "                if bits[i] == 0:\n",
    "                    pass\n",
    "                else:\n",
    "                    qc.x(q[i])\n",
    "            else:\n",
    "                if bits[i] == 0:\n",
    "                    qc.h(q[i])\n",
    "                else:\n",
    "                    qc.x(q[i])\n",
    "                    qc.h(q[i])\n",
    "encrypt_qubits(abases_list,abit_list, 5)\n",
    "\n",
    "def compare_bases(b1,b2,n2):\n",
    "        goodlist = []\n",
    "        for i in range(n2):\n",
    "            if b1[i] == b2[i]:\n",
    "                goodlist.append(b1[i])\n",
    "            else:\n",
    "                goodlist.append(\"0\")\n",
    "        return goodlist\n",
    "\n",
    "realbases = compare_bases(abases_list,bbases_list,5)\n",
    "print(realbases)\n",
    "\n",
    "def decrypt_qubits(bases, n1):\n",
    "        \n",
    "        for i in range(n1):\n",
    "            if bases[i] == 'Z':\n",
    "                qc.measure(q[i],b[i])\n",
    "                \n",
    "            elif bases[i] == 'X':\n",
    "                qc.h(q[i])\n",
    "                qc.measure(q[i],b[i])\n",
    "                \n",
    "            else:\n",
    "                pass\n",
    "\n",
    "decrypt_qubits(realbases,5)\n",
    "\n",
    "display(qc.draw())\n",
    "#backend_sim = Aer.get_backend('qasm_simulator')\n",
    "#job_sim = execute(qc, backend_sim, shots=1000)\n",
    "#result_sim = job_sim.result()\n",
    "#counts = result_sim.get_counts(qc)\n",
    "#print(counts)\n",
    "\n",
    "\n",
    "qi_job = execute(qc, backend=qi_backend, shots=256)\n",
    "qi_result = qi_job.result()\n",
    "    histogram = qi_result.get_counts(qc)\n",
    "print(\"\\nState\\tCounts\")\n",
    "[print(\"{0}\\t{1}\".format(state, counts)) for state, counts in histogram.items()]\n"
   ]
  },
  {
   "cell_type": "code",
   "execution_count": 107,
   "id": "cdd34753-8e87-4cbb-98dc-45167e1378cd",
   "metadata": {},
   "outputs": [
    {
     "name": "stdout",
     "output_type": "stream",
     "text": [
      "1 0 1 0\n"
     ]
    }
   ],
   "source": [
    "keylist = list(histogram.items())\n",
    "\n",
    "num=(0, 0)\n",
    "for item in keylist:\n",
    "    if item[1]>num[1]:\n",
    "        num=item\n",
    "key1 = num[0]\n",
    "\n",
    "keylist = list(key1)\n",
    "\n",
    "realbases.reverse()\n",
    "\n",
    "key= []\n",
    "for i in [0,1,2,3,4]:\n",
    "    if realbases[i] == \"0\":\n",
    "        pass\n",
    "    else:\n",
    "        key.append(keylist[i])\n",
    "\n",
    "key.reverse()\n",
    "\n",
    "def listToString(s): \n",
    "    # initialize an empty string\n",
    "    str1 = \" \" \n",
    "    # return string  \n",
    "    return (str1.join(s))\n",
    "\n",
    "realkey = listToString(key)\n",
    "\n",
    "\n",
    "print(realkey)"
   ]
  },
  {
   "cell_type": "code",
   "execution_count": null,
   "id": "d0796590-d215-4ada-a34c-0afe7b66ffb4",
   "metadata": {},
   "outputs": [],
   "source": []
  },
  {
   "cell_type": "code",
   "execution_count": null,
   "id": "6a0a1559-d9d5-4e06-9cff-e07be66ed3d3",
   "metadata": {},
   "outputs": [],
   "source": []
  },
  {
   "cell_type": "code",
   "execution_count": null,
   "id": "bb90540c-3e1a-4f10-8f5e-668d14e0e7ea",
   "metadata": {},
   "outputs": [],
   "source": []
  }
 ],
 "metadata": {
  "kernelspec": {
   "display_name": "Python 3 [qBraid]",
   "language": "python",
   "name": "python3_qbraid"
  },
  "language_info": {
   "codemirror_mode": {
    "name": "ipython",
    "version": 3
   },
   "file_extension": ".py",
   "mimetype": "text/x-python",
   "name": "python",
   "nbconvert_exporter": "python",
   "pygments_lexer": "ipython3",
   "version": "3.9.7"
  }
 },
 "nbformat": 4,
 "nbformat_minor": 5
}
