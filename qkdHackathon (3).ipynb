{
 "cells": [
  {
   "cell_type": "code",
   "execution_count": 3,
   "id": "37e43725-a8ea-430d-bb6a-82da0bedda99",
   "metadata": {},
   "outputs": [],
   "source": [
    "import qiskit\n",
    "from qiskit import *\n",
    "from qiskit import Aer\n"
   ]
  },
  {
   "cell_type": "code",
   "execution_count": 4,
   "id": "330ba9fd-a777-4e42-ab1e-bf8d885c5d2e",
   "metadata": {},
   "outputs": [],
   "source": [
    "from qiskit import QuantumCircuit, Aer, transpile, assemble\n",
    "from qiskit.visualization import plot_histogram, plot_bloch_multivector\n",
    "from numpy.random import randint\n",
    "import numpy as np"
   ]
  },
  {
   "cell_type": "code",
   "execution_count": 5,
   "id": "5850fbd8-2f63-4eee-ad6c-e3ecc8d2bcf3",
   "metadata": {},
   "outputs": [
    {
     "name": "stdout",
     "output_type": "stream",
     "text": [
      "Requirement already satisfied: quantuminspire in /opt/.qbraid/environments/qbraid_000000/pyenv/lib/python3.9/site-packages (1.7.0)\n",
      "Requirement already satisfied: sklearn in /opt/.qbraid/environments/qbraid_000000/pyenv/lib/python3.9/site-packages (from quantuminspire) (0.0)\n",
      "Requirement already satisfied: numpy>=1.17 in /opt/.qbraid/environments/qbraid_000000/pyenv/lib/python3.9/site-packages (from quantuminspire) (1.20.3)\n",
      "Requirement already satisfied: pylatexenc in /opt/.qbraid/environments/qbraid_000000/pyenv/lib/python3.9/site-packages (from quantuminspire) (2.10)\n",
      "Requirement already satisfied: coreapi>=2.3.3 in /opt/.qbraid/environments/qbraid_000000/pyenv/lib/python3.9/site-packages (from quantuminspire) (2.3.3)\n",
      "Requirement already satisfied: coverage>=4.5.1 in /opt/.qbraid/environments/qbraid_000000/pyenv/lib/python3.9/site-packages (from quantuminspire) (5.5)\n",
      "Requirement already satisfied: jupyter in /opt/.qbraid/environments/qbraid_000000/pyenv/lib/python3.9/site-packages (from quantuminspire) (1.0.0)\n",
      "Requirement already satisfied: nbimporter in /opt/.qbraid/environments/qbraid_000000/pyenv/lib/python3.9/site-packages (from quantuminspire) (0.3.4)\n",
      "Requirement already satisfied: matplotlib>=2.1 in /opt/.qbraid/environments/qbraid_000000/pyenv/lib/python3.9/site-packages (from quantuminspire) (3.5.1)\n",
      "Requirement already satisfied: coreschema in /opt/.qbraid/environments/qbraid_000000/pyenv/lib/python3.9/site-packages (from coreapi>=2.3.3->quantuminspire) (0.0.4)\n",
      "Requirement already satisfied: itypes in /opt/.qbraid/environments/qbraid_000000/pyenv/lib/python3.9/site-packages (from coreapi>=2.3.3->quantuminspire) (1.2.0)\n",
      "Requirement already satisfied: uritemplate in /opt/.qbraid/environments/qbraid_000000/pyenv/lib/python3.9/site-packages (from coreapi>=2.3.3->quantuminspire) (4.1.1)\n",
      "Requirement already satisfied: requests in /opt/.qbraid/environments/qbraid_000000/pyenv/lib/python3.9/site-packages (from coreapi>=2.3.3->quantuminspire) (2.27.1)\n",
      "Requirement already satisfied: python-dateutil>=2.7 in /opt/.qbraid/environments/qbraid_000000/pyenv/lib/python3.9/site-packages (from matplotlib>=2.1->quantuminspire) (2.8.2)\n",
      "Requirement already satisfied: packaging>=20.0 in /opt/.qbraid/environments/qbraid_000000/pyenv/lib/python3.9/site-packages (from matplotlib>=2.1->quantuminspire) (21.3)\n",
      "Requirement already satisfied: pillow>=6.2.0 in /opt/.qbraid/environments/qbraid_000000/pyenv/lib/python3.9/site-packages (from matplotlib>=2.1->quantuminspire) (9.0.0)\n",
      "Requirement already satisfied: fonttools>=4.22.0 in /opt/.qbraid/environments/qbraid_000000/pyenv/lib/python3.9/site-packages (from matplotlib>=2.1->quantuminspire) (4.29.0)\n",
      "Requirement already satisfied: cycler>=0.10 in /opt/.qbraid/environments/qbraid_000000/pyenv/lib/python3.9/site-packages (from matplotlib>=2.1->quantuminspire) (0.11.0)\n",
      "Requirement already satisfied: pyparsing>=2.2.1 in /opt/.qbraid/environments/qbraid_000000/pyenv/lib/python3.9/site-packages (from matplotlib>=2.1->quantuminspire) (2.4.7)\n",
      "Requirement already satisfied: kiwisolver>=1.0.1 in /opt/.qbraid/environments/qbraid_000000/pyenv/lib/python3.9/site-packages (from matplotlib>=2.1->quantuminspire) (1.3.2)\n",
      "Requirement already satisfied: ipywidgets in /opt/conda/lib/python3.9/site-packages (from jupyter->quantuminspire) (7.6.5)\n",
      "Requirement already satisfied: notebook in /opt/.qbraid/environments/qbraid_000000/pyenv/lib/python3.9/site-packages (from jupyter->quantuminspire) (6.4.8)\n",
      "Requirement already satisfied: ipykernel in /opt/.qbraid/environments/qbraid_000000/pyenv/lib/python3.9/site-packages (from jupyter->quantuminspire) (6.7.0)\n",
      "Requirement already satisfied: nbconvert in /opt/.qbraid/environments/qbraid_000000/pyenv/lib/python3.9/site-packages (from jupyter->quantuminspire) (6.4.1)\n",
      "Requirement already satisfied: qtconsole in /opt/.qbraid/environments/qbraid_000000/pyenv/lib/python3.9/site-packages (from jupyter->quantuminspire) (5.2.2)\n",
      "Requirement already satisfied: jupyter-console in /opt/.qbraid/environments/qbraid_000000/pyenv/lib/python3.9/site-packages (from jupyter->quantuminspire) (6.4.0)\n",
      "Requirement already satisfied: scikit-learn in /opt/.qbraid/environments/qbraid_000000/pyenv/lib/python3.9/site-packages (from sklearn->quantuminspire) (1.0.2)\n",
      "Requirement already satisfied: six>=1.5 in /opt/.qbraid/environments/qbraid_000000/pyenv/lib/python3.9/site-packages (from python-dateutil>=2.7->matplotlib>=2.1->quantuminspire) (1.16.0)\n",
      "Requirement already satisfied: jinja2 in /opt/.qbraid/environments/qbraid_000000/pyenv/lib/python3.9/site-packages (from coreschema->coreapi>=2.3.3->quantuminspire) (2.11.3)\n",
      "Requirement already satisfied: jupyter-client<8.0 in /opt/.qbraid/environments/qbraid_000000/pyenv/lib/python3.9/site-packages (from ipykernel->jupyter->quantuminspire) (7.1.2)\n",
      "Requirement already satisfied: matplotlib-inline<0.2.0,>=0.1.0 in /opt/.qbraid/environments/qbraid_000000/pyenv/lib/python3.9/site-packages (from ipykernel->jupyter->quantuminspire) (0.1.3)\n",
      "Requirement already satisfied: tornado<7.0,>=4.2 in /opt/.qbraid/environments/qbraid_000000/pyenv/lib/python3.9/site-packages (from ipykernel->jupyter->quantuminspire) (6.1)\n",
      "Requirement already satisfied: ipython>=7.23.1 in /opt/.qbraid/environments/qbraid_000000/pyenv/lib/python3.9/site-packages (from ipykernel->jupyter->quantuminspire) (8.0.1)\n",
      "Requirement already satisfied: debugpy<2.0,>=1.0.0 in /opt/.qbraid/environments/qbraid_000000/pyenv/lib/python3.9/site-packages (from ipykernel->jupyter->quantuminspire) (1.5.1)\n",
      "Requirement already satisfied: nest-asyncio in /opt/.qbraid/environments/qbraid_000000/pyenv/lib/python3.9/site-packages (from ipykernel->jupyter->quantuminspire) (1.5.4)\n",
      "Requirement already satisfied: traitlets<6.0,>=5.1.0 in /opt/.qbraid/environments/qbraid_000000/pyenv/lib/python3.9/site-packages (from ipykernel->jupyter->quantuminspire) (5.1.1)\n",
      "Requirement already satisfied: nbformat>=4.2.0 in /opt/.qbraid/environments/qbraid_000000/pyenv/lib/python3.9/site-packages (from ipywidgets->jupyter->quantuminspire) (5.1.3)\n",
      "Requirement already satisfied: jupyterlab-widgets>=1.0.0 in /opt/conda/lib/python3.9/site-packages (from ipywidgets->jupyter->quantuminspire) (1.0.2)\n",
      "Requirement already satisfied: widgetsnbextension~=3.5.0 in /opt/.qbraid/environments/qbraid_000000/pyenv/lib/python3.9/site-packages (from ipywidgets->jupyter->quantuminspire) (3.5.2)\n",
      "Requirement already satisfied: ipython-genutils~=0.2.0 in /opt/.qbraid/environments/qbraid_000000/pyenv/lib/python3.9/site-packages (from ipywidgets->jupyter->quantuminspire) (0.2.0)\n",
      "Requirement already satisfied: pygments in /opt/.qbraid/environments/qbraid_000000/pyenv/lib/python3.9/site-packages (from jupyter-console->jupyter->quantuminspire) (2.11.2)\n",
      "Requirement already satisfied: prompt-toolkit!=3.0.0,!=3.0.1,<3.1.0,>=2.0.0 in /opt/.qbraid/environments/qbraid_000000/pyenv/lib/python3.9/site-packages (from jupyter-console->jupyter->quantuminspire) (3.0.26)\n",
      "Requirement already satisfied: nbclient<0.6.0,>=0.5.0 in /opt/.qbraid/environments/qbraid_000000/pyenv/lib/python3.9/site-packages (from nbconvert->jupyter->quantuminspire) (0.5.10)\n",
      "Requirement already satisfied: mistune<2,>=0.8.1 in /opt/.qbraid/environments/qbraid_000000/pyenv/lib/python3.9/site-packages (from nbconvert->jupyter->quantuminspire) (0.8.4)\n",
      "Requirement already satisfied: defusedxml in /opt/.qbraid/environments/qbraid_000000/pyenv/lib/python3.9/site-packages (from nbconvert->jupyter->quantuminspire) (0.7.1)\n",
      "Requirement already satisfied: jupyter-core in /opt/.qbraid/environments/qbraid_000000/pyenv/lib/python3.9/site-packages (from nbconvert->jupyter->quantuminspire) (4.9.1)\n",
      "Requirement already satisfied: bleach in /opt/.qbraid/environments/qbraid_000000/pyenv/lib/python3.9/site-packages (from nbconvert->jupyter->quantuminspire) (4.1.0)\n",
      "Requirement already satisfied: pandocfilters>=1.4.1 in /opt/.qbraid/environments/qbraid_000000/pyenv/lib/python3.9/site-packages (from nbconvert->jupyter->quantuminspire) (1.5.0)\n",
      "Requirement already satisfied: entrypoints>=0.2.2 in /opt/.qbraid/environments/qbraid_000000/pyenv/lib/python3.9/site-packages (from nbconvert->jupyter->quantuminspire) (0.3)\n",
      "Requirement already satisfied: jupyterlab-pygments in /opt/.qbraid/environments/qbraid_000000/pyenv/lib/python3.9/site-packages (from nbconvert->jupyter->quantuminspire) (0.1.2)\n",
      "Requirement already satisfied: testpath in /opt/.qbraid/environments/qbraid_000000/pyenv/lib/python3.9/site-packages (from nbconvert->jupyter->quantuminspire) (0.5.0)\n",
      "Requirement already satisfied: Send2Trash>=1.8.0 in /opt/.qbraid/environments/qbraid_000000/pyenv/lib/python3.9/site-packages (from notebook->jupyter->quantuminspire) (1.8.0)\n",
      "Requirement already satisfied: terminado>=0.8.3 in /opt/.qbraid/environments/qbraid_000000/pyenv/lib/python3.9/site-packages (from notebook->jupyter->quantuminspire) (0.13.1)\n",
      "Requirement already satisfied: argon2-cffi in /opt/.qbraid/environments/qbraid_000000/pyenv/lib/python3.9/site-packages (from notebook->jupyter->quantuminspire) (21.3.0)\n",
      "Requirement already satisfied: pyzmq>=17 in /opt/.qbraid/environments/qbraid_000000/pyenv/lib/python3.9/site-packages (from notebook->jupyter->quantuminspire) (22.3.0)\n",
      "Requirement already satisfied: prometheus-client in /opt/.qbraid/environments/qbraid_000000/pyenv/lib/python3.9/site-packages (from notebook->jupyter->quantuminspire) (0.13.1)\n",
      "Requirement already satisfied: qtpy in /opt/.qbraid/environments/qbraid_000000/pyenv/lib/python3.9/site-packages (from qtconsole->jupyter->quantuminspire) (2.0.0)\n",
      "Requirement already satisfied: urllib3<1.27,>=1.21.1 in /opt/.qbraid/environments/qbraid_000000/pyenv/lib/python3.9/site-packages (from requests->coreapi>=2.3.3->quantuminspire) (1.26.8)\n",
      "Requirement already satisfied: charset-normalizer~=2.0.0 in /opt/.qbraid/environments/qbraid_000000/pyenv/lib/python3.9/site-packages (from requests->coreapi>=2.3.3->quantuminspire) (2.0.10)\n",
      "Requirement already satisfied: certifi>=2017.4.17 in /opt/.qbraid/environments/qbraid_000000/pyenv/lib/python3.9/site-packages (from requests->coreapi>=2.3.3->quantuminspire) (2021.5.30)\n",
      "Requirement already satisfied: idna<4,>=2.5 in /opt/.qbraid/environments/qbraid_000000/pyenv/lib/python3.9/site-packages (from requests->coreapi>=2.3.3->quantuminspire) (2.10)\n",
      "Requirement already satisfied: joblib>=0.11 in /opt/.qbraid/environments/qbraid_000000/pyenv/lib/python3.9/site-packages (from scikit-learn->sklearn->quantuminspire) (1.1.0)\n",
      "Requirement already satisfied: scipy>=1.1.0 in /opt/.qbraid/environments/qbraid_000000/pyenv/lib/python3.9/site-packages (from scikit-learn->sklearn->quantuminspire) (1.7.3)\n",
      "Requirement already satisfied: threadpoolctl>=2.0.0 in /opt/.qbraid/environments/qbraid_000000/pyenv/lib/python3.9/site-packages (from scikit-learn->sklearn->quantuminspire) (3.0.0)\n",
      "Requirement already satisfied: pickleshare in /opt/.qbraid/environments/qbraid_000000/pyenv/lib/python3.9/site-packages (from ipython>=7.23.1->ipykernel->jupyter->quantuminspire) (0.7.5)\n",
      "Requirement already satisfied: decorator in /opt/.qbraid/environments/qbraid_000000/pyenv/lib/python3.9/site-packages (from ipython>=7.23.1->ipykernel->jupyter->quantuminspire) (4.4.2)\n",
      "Requirement already satisfied: backcall in /opt/.qbraid/environments/qbraid_000000/pyenv/lib/python3.9/site-packages (from ipython>=7.23.1->ipykernel->jupyter->quantuminspire) (0.2.0)\n",
      "Requirement already satisfied: jedi>=0.16 in /opt/.qbraid/environments/qbraid_000000/pyenv/lib/python3.9/site-packages (from ipython>=7.23.1->ipykernel->jupyter->quantuminspire) (0.18.1)\n",
      "Requirement already satisfied: setuptools>=18.5 in /opt/.qbraid/environments/qbraid_000000/pyenv/lib/python3.9/site-packages (from ipython>=7.23.1->ipykernel->jupyter->quantuminspire) (57.4.0)\n",
      "Requirement already satisfied: pexpect>4.3 in /opt/.qbraid/environments/qbraid_000000/pyenv/lib/python3.9/site-packages (from ipython>=7.23.1->ipykernel->jupyter->quantuminspire) (4.8.0)\n",
      "Requirement already satisfied: black in /opt/.qbraid/environments/qbraid_000000/pyenv/lib/python3.9/site-packages (from ipython>=7.23.1->ipykernel->jupyter->quantuminspire) (21.12b0)\n",
      "Requirement already satisfied: stack-data in /opt/.qbraid/environments/qbraid_000000/pyenv/lib/python3.9/site-packages (from ipython>=7.23.1->ipykernel->jupyter->quantuminspire) (0.1.4)\n",
      "Requirement already satisfied: MarkupSafe>=0.23 in /opt/.qbraid/environments/qbraid_000000/pyenv/lib/python3.9/site-packages (from jinja2->coreschema->coreapi>=2.3.3->quantuminspire) (2.0.1)\n",
      "Requirement already satisfied: jsonschema!=2.5.0,>=2.4 in /opt/.qbraid/environments/qbraid_000000/pyenv/lib/python3.9/site-packages (from nbformat>=4.2.0->ipywidgets->jupyter->quantuminspire) (4.4.0)\n",
      "Requirement already satisfied: wcwidth in /opt/.qbraid/environments/qbraid_000000/pyenv/lib/python3.9/site-packages (from prompt-toolkit!=3.0.0,!=3.0.1,<3.1.0,>=2.0.0->jupyter-console->jupyter->quantuminspire) (0.2.5)\n",
      "Requirement already satisfied: ptyprocess in /opt/.qbraid/environments/qbraid_000000/pyenv/lib/python3.9/site-packages (from terminado>=0.8.3->notebook->jupyter->quantuminspire) (0.7.0)\n",
      "Requirement already satisfied: argon2-cffi-bindings in /opt/.qbraid/environments/qbraid_000000/pyenv/lib/python3.9/site-packages (from argon2-cffi->notebook->jupyter->quantuminspire) (21.2.0)\n",
      "Requirement already satisfied: webencodings in /opt/.qbraid/environments/qbraid_000000/pyenv/lib/python3.9/site-packages (from bleach->nbconvert->jupyter->quantuminspire) (0.5.1)\n",
      "Requirement already satisfied: parso<0.9.0,>=0.8.0 in /opt/.qbraid/environments/qbraid_000000/pyenv/lib/python3.9/site-packages (from jedi>=0.16->ipython>=7.23.1->ipykernel->jupyter->quantuminspire) (0.8.3)\n",
      "Requirement already satisfied: pyrsistent!=0.17.0,!=0.17.1,!=0.17.2,>=0.14.0 in /opt/.qbraid/environments/qbraid_000000/pyenv/lib/python3.9/site-packages (from jsonschema!=2.5.0,>=2.4->nbformat>=4.2.0->ipywidgets->jupyter->quantuminspire) (0.18.1)\n",
      "Requirement already satisfied: attrs>=17.4.0 in /opt/.qbraid/environments/qbraid_000000/pyenv/lib/python3.9/site-packages (from jsonschema!=2.5.0,>=2.4->nbformat>=4.2.0->ipywidgets->jupyter->quantuminspire) (20.3.0)\n",
      "Requirement already satisfied: cffi>=1.0.1 in /opt/.qbraid/environments/qbraid_000000/pyenv/lib/python3.9/site-packages (from argon2-cffi-bindings->argon2-cffi->notebook->jupyter->quantuminspire) (1.15.0)\n",
      "Requirement already satisfied: click>=7.1.2 in /opt/.qbraid/environments/qbraid_000000/pyenv/lib/python3.9/site-packages (from black->ipython>=7.23.1->ipykernel->jupyter->quantuminspire) (8.0.3)\n",
      "Requirement already satisfied: pathspec<1,>=0.9.0 in /opt/.qbraid/environments/qbraid_000000/pyenv/lib/python3.9/site-packages (from black->ipython>=7.23.1->ipykernel->jupyter->quantuminspire) (0.9.0)\n",
      "Requirement already satisfied: typing-extensions>=3.10.0.0 in /opt/.qbraid/environments/qbraid_000000/pyenv/lib/python3.9/site-packages (from black->ipython>=7.23.1->ipykernel->jupyter->quantuminspire) (3.10.0.2)\n",
      "Requirement already satisfied: tomli<2.0.0,>=0.2.6 in /opt/.qbraid/environments/qbraid_000000/pyenv/lib/python3.9/site-packages (from black->ipython>=7.23.1->ipykernel->jupyter->quantuminspire) (1.2.3)\n",
      "Requirement already satisfied: mypy-extensions>=0.4.3 in /opt/.qbraid/environments/qbraid_000000/pyenv/lib/python3.9/site-packages (from black->ipython>=7.23.1->ipykernel->jupyter->quantuminspire) (0.4.3)\n",
      "Requirement already satisfied: platformdirs>=2 in /opt/.qbraid/environments/qbraid_000000/pyenv/lib/python3.9/site-packages (from black->ipython>=7.23.1->ipykernel->jupyter->quantuminspire) (2.4.1)\n",
      "Requirement already satisfied: executing in /opt/.qbraid/environments/qbraid_000000/pyenv/lib/python3.9/site-packages (from stack-data->ipython>=7.23.1->ipykernel->jupyter->quantuminspire) (0.8.2)\n",
      "Requirement already satisfied: pure-eval in /opt/.qbraid/environments/qbraid_000000/pyenv/lib/python3.9/site-packages (from stack-data->ipython>=7.23.1->ipykernel->jupyter->quantuminspire) (0.2.2)\n",
      "Requirement already satisfied: asttokens in /opt/.qbraid/environments/qbraid_000000/pyenv/lib/python3.9/site-packages (from stack-data->ipython>=7.23.1->ipykernel->jupyter->quantuminspire) (2.0.5)\n",
      "Requirement already satisfied: pycparser in /opt/.qbraid/environments/qbraid_000000/pyenv/lib/python3.9/site-packages (from cffi>=1.0.1->argon2-cffi-bindings->argon2-cffi->notebook->jupyter->quantuminspire) (2.21)\n",
      "Note: you may need to restart the kernel to use updated packages.\n"
     ]
    }
   ],
   "source": [
    "pip install quantuminspire"
   ]
  },
  {
   "cell_type": "code",
   "execution_count": 6,
   "id": "989a69b8-2fd9-481a-97de-ca23336e62e9",
   "metadata": {},
   "outputs": [
    {
     "name": "stdout",
     "output_type": "stream",
     "text": [
      "Requirement already satisfied: qiskit in /opt/conda/lib/python3.9/site-packages (0.34.1)\n",
      "Requirement already satisfied: qiskit-terra==0.19.1 in /opt/conda/lib/python3.9/site-packages (from qiskit) (0.19.1)\n",
      "Requirement already satisfied: qiskit-ibmq-provider==0.18.3 in /opt/conda/lib/python3.9/site-packages (from qiskit) (0.18.3)\n",
      "Requirement already satisfied: qiskit-ignis==0.7.0 in /opt/conda/lib/python3.9/site-packages (from qiskit) (0.7.0)\n",
      "Requirement already satisfied: qiskit-aer==0.10.2 in /opt/conda/lib/python3.9/site-packages (from qiskit) (0.10.2)\n",
      "Requirement already satisfied: scipy>=1.0 in /opt/conda/lib/python3.9/site-packages (from qiskit-aer==0.10.2->qiskit) (1.7.3)\n",
      "Requirement already satisfied: numpy>=1.16.3 in /opt/conda/lib/python3.9/site-packages (from qiskit-aer==0.10.2->qiskit) (1.20.3)\n",
      "Requirement already satisfied: urllib3>=1.21.1 in /opt/conda/lib/python3.9/site-packages (from qiskit-ibmq-provider==0.18.3->qiskit) (1.26.7)\n",
      "Requirement already satisfied: python-dateutil>=2.8.0 in /opt/conda/lib/python3.9/site-packages (from qiskit-ibmq-provider==0.18.3->qiskit) (2.8.2)\n",
      "Requirement already satisfied: requests>=2.19 in /opt/conda/lib/python3.9/site-packages (from qiskit-ibmq-provider==0.18.3->qiskit) (2.26.0)\n",
      "Requirement already satisfied: websocket-client>=1.0.1 in /opt/conda/lib/python3.9/site-packages (from qiskit-ibmq-provider==0.18.3->qiskit) (1.2.3)\n",
      "Requirement already satisfied: requests-ntlm>=1.1.0 in /opt/conda/lib/python3.9/site-packages (from qiskit-ibmq-provider==0.18.3->qiskit) (1.1.0)\n",
      "Requirement already satisfied: retworkx>=0.8.0 in /opt/conda/lib/python3.9/site-packages (from qiskit-ignis==0.7.0->qiskit) (0.11.0)\n",
      "Requirement already satisfied: setuptools>=40.1.0 in /opt/conda/lib/python3.9/site-packages (from qiskit-ignis==0.7.0->qiskit) (59.4.0)\n",
      "Requirement already satisfied: python-constraint>=1.4 in /opt/conda/lib/python3.9/site-packages (from qiskit-terra==0.19.1->qiskit) (1.4.0)\n",
      "Requirement already satisfied: dill>=0.3 in /opt/conda/lib/python3.9/site-packages (from qiskit-terra==0.19.1->qiskit) (0.3.4)\n",
      "Requirement already satisfied: tweedledum<2.0,>=1.1 in /opt/conda/lib/python3.9/site-packages (from qiskit-terra==0.19.1->qiskit) (1.1.1)\n",
      "Requirement already satisfied: sympy>=1.3 in /opt/conda/lib/python3.9/site-packages (from qiskit-terra==0.19.1->qiskit) (1.9)\n",
      "Requirement already satisfied: stevedore>=3.0.0 in /opt/conda/lib/python3.9/site-packages (from qiskit-terra==0.19.1->qiskit) (3.5.0)\n",
      "Requirement already satisfied: ply>=3.10 in /opt/conda/lib/python3.9/site-packages (from qiskit-terra==0.19.1->qiskit) (3.11)\n",
      "Requirement already satisfied: psutil>=5 in /opt/conda/lib/python3.9/site-packages (from qiskit-terra==0.19.1->qiskit) (5.8.0)\n",
      "Requirement already satisfied: symengine>=0.8 in /opt/conda/lib/python3.9/site-packages (from qiskit-terra==0.19.1->qiskit) (0.8.1)\n",
      "Requirement already satisfied: six>=1.5 in /opt/conda/lib/python3.9/site-packages (from python-dateutil>=2.8.0->qiskit-ibmq-provider==0.18.3->qiskit) (1.16.0)\n",
      "Requirement already satisfied: certifi>=2017.4.17 in /opt/conda/lib/python3.9/site-packages (from requests>=2.19->qiskit-ibmq-provider==0.18.3->qiskit) (2021.10.8)\n",
      "Requirement already satisfied: idna<4,>=2.5 in /opt/conda/lib/python3.9/site-packages (from requests>=2.19->qiskit-ibmq-provider==0.18.3->qiskit) (3.1)\n",
      "Requirement already satisfied: charset-normalizer~=2.0.0 in /opt/conda/lib/python3.9/site-packages (from requests>=2.19->qiskit-ibmq-provider==0.18.3->qiskit) (2.0.9)\n",
      "Requirement already satisfied: cryptography>=1.3 in /opt/conda/lib/python3.9/site-packages (from requests-ntlm>=1.1.0->qiskit-ibmq-provider==0.18.3->qiskit) (36.0.0)\n",
      "Requirement already satisfied: ntlm-auth>=1.0.2 in /opt/conda/lib/python3.9/site-packages (from requests-ntlm>=1.1.0->qiskit-ibmq-provider==0.18.3->qiskit) (1.5.0)\n",
      "Requirement already satisfied: pbr!=2.1.0,>=2.0.0 in /opt/conda/lib/python3.9/site-packages (from stevedore>=3.0.0->qiskit-terra==0.19.1->qiskit) (5.8.0)\n",
      "Requirement already satisfied: mpmath>=0.19 in /opt/conda/lib/python3.9/site-packages (from sympy>=1.3->qiskit-terra==0.19.1->qiskit) (1.2.1)\n",
      "Requirement already satisfied: cffi>=1.12 in /opt/conda/lib/python3.9/site-packages (from cryptography>=1.3->requests-ntlm>=1.1.0->qiskit-ibmq-provider==0.18.3->qiskit) (1.15.0)\n",
      "Requirement already satisfied: pycparser in /opt/conda/lib/python3.9/site-packages (from cffi>=1.12->cryptography>=1.3->requests-ntlm>=1.1.0->qiskit-ibmq-provider==0.18.3->qiskit) (2.21)\n"
     ]
    }
   ],
   "source": [
    "!pip install qiskit\n",
    "from getpass import getpass\n",
    "from qiskit.circuit import QuantumRegister, ClassicalRegister, QuantumCircuit\n",
    "from quantuminspire.qiskit import QI"
   ]
  },
  {
   "cell_type": "code",
   "execution_count": 7,
   "id": "c88392c6-521d-4adc-a85c-a4503f4f1f1a",
   "metadata": {},
   "outputs": [],
   "source": [
    "def get_authentication():\n",
    "    \"\"\"Gets the authentication for connecting to the\n",
    "       Quantum Inspire API.\n",
    "    \"\"\"\n",
    "    print(\"Enter email:\")\n",
    "    email = input()\n",
    "    print(\"Enter password\")\n",
    "    password = getpass()\n",
    "    return email, password "
   ]
  },
  {
   "cell_type": "code",
   "execution_count": 8,
   "id": "8b6da72c-d7ea-4ba1-ad20-80bb0c128a85",
   "metadata": {},
   "outputs": [
    {
     "name": "stdout",
     "output_type": "stream",
     "text": [
      "Enter email:\n"
     ]
    },
    {
     "name": "stdin",
     "output_type": "stream",
     "text": [
      " thethomasverrill@gmail.com\n"
     ]
    },
    {
     "name": "stdout",
     "output_type": "stream",
     "text": [
      "Enter password\n"
     ]
    },
    {
     "name": "stdin",
     "output_type": "stream",
     "text": [
      " ····················\n"
     ]
    }
   ],
   "source": [
    "if __name__ == '__main__':\n",
    "    if 'authentication' not in vars().keys():\n",
    "        authentication = get_authentication()\n",
    "    QI.set_authentication_details(*authentication)\n",
    "    qi_backend = QI.get_backend('Starmon-5')"
   ]
  },
  {
   "cell_type": "code",
   "execution_count": 25,
   "id": "335b583e-7c7d-4cf4-8402-4e30ab5893c2",
   "metadata": {},
   "outputs": [
    {
     "name": "stdout",
     "output_type": "stream",
     "text": [
      "Alice, please input random 5-bit string: \n"
     ]
    },
    {
     "name": "stdin",
     "output_type": "stream",
     "text": [
      " 11111\n"
     ]
    },
    {
     "name": "stdout",
     "output_type": "stream",
     "text": [
      "Alice, please input random 5-basis string consisting of X or Z: \n"
     ]
    },
    {
     "name": "stdin",
     "output_type": "stream",
     "text": [
      " XXXXX\n"
     ]
    },
    {
     "name": "stdout",
     "output_type": "stream",
     "text": [
      "Bob, please input random 5-basis string consisting of X or Z: \n"
     ]
    },
    {
     "name": "stdin",
     "output_type": "stream",
     "text": [
      " XXXXX\n"
     ]
    },
    {
     "name": "stdout",
     "output_type": "stream",
     "text": [
      "['X', 'X', 'X', 'X', 'X']\n"
     ]
    },
    {
     "data": {
      "text/html": [
       "<pre style=\"word-wrap: normal;white-space: pre;background: #fff0;line-height: 1.1;font-family: &quot;Courier New&quot;,Courier,monospace\">        ┌───┐┌───┐┌───┐┌─┐            \n",
       "q122_0: ┤ X ├┤ H ├┤ H ├┤M├────────────\n",
       "        ├───┤├───┤├───┤└╥┘┌─┐         \n",
       "q122_1: ┤ X ├┤ H ├┤ H ├─╫─┤M├─────────\n",
       "        ├───┤├───┤├───┤ ║ └╥┘┌─┐      \n",
       "q122_2: ┤ X ├┤ H ├┤ H ├─╫──╫─┤M├──────\n",
       "        ├───┤├───┤├───┤ ║  ║ └╥┘┌─┐   \n",
       "q122_3: ┤ X ├┤ H ├┤ H ├─╫──╫──╫─┤M├───\n",
       "        ├───┤├───┤├───┤ ║  ║  ║ └╥┘┌─┐\n",
       "q122_4: ┤ X ├┤ H ├┤ H ├─╫──╫──╫──╫─┤M├\n",
       "        └───┘└───┘└───┘ ║  ║  ║  ║ └╥┘\n",
       " c16: 5/════════════════╩══╩══╩══╩══╩═\n",
       "                        0  1  2  3  4 </pre>"
      ],
      "text/plain": [
       "        ┌───┐┌───┐┌───┐┌─┐            \n",
       "q122_0: ┤ X ├┤ H ├┤ H ├┤M├────────────\n",
       "        ├───┤├───┤├───┤└╥┘┌─┐         \n",
       "q122_1: ┤ X ├┤ H ├┤ H ├─╫─┤M├─────────\n",
       "        ├───┤├───┤├───┤ ║ └╥┘┌─┐      \n",
       "q122_2: ┤ X ├┤ H ├┤ H ├─╫──╫─┤M├──────\n",
       "        ├───┤├───┤├───┤ ║  ║ └╥┘┌─┐   \n",
       "q122_3: ┤ X ├┤ H ├┤ H ├─╫──╫──╫─┤M├───\n",
       "        ├───┤├───┤├───┤ ║  ║  ║ └╥┘┌─┐\n",
       "q122_4: ┤ X ├┤ H ├┤ H ├─╫──╫──╫──╫─┤M├\n",
       "        └───┘└───┘└───┘ ║  ║  ║  ║ └╥┘\n",
       " c16: 5/════════════════╩══╩══╩══╩══╩═\n",
       "                        0  1  2  3  4 "
      ]
     },
     "metadata": {},
     "output_type": "display_data"
    },
    {
     "name": "stdout",
     "output_type": "stream",
     "text": [
      "\n",
      "State\tCounts\n",
      "00111\t1\n",
      "01011\t2\n",
      "01111\t11\n",
      "10001\t1\n",
      "10011\t1\n",
      "10101\t5\n",
      "10110\t2\n",
      "10111\t26\n",
      "11001\t2\n",
      "11011\t8\n",
      "11100\t2\n",
      "11101\t16\n",
      "11110\t20\n",
      "11111\t159\n"
     ]
    },
    {
     "data": {
      "text/plain": [
       "[None,\n",
       " None,\n",
       " None,\n",
       " None,\n",
       " None,\n",
       " None,\n",
       " None,\n",
       " None,\n",
       " None,\n",
       " None,\n",
       " None,\n",
       " None,\n",
       " None,\n",
       " None]"
      ]
     },
     "execution_count": 25,
     "metadata": {},
     "output_type": "execute_result"
    }
   ],
   "source": [
    "    n = 5\n",
    "    q = QuantumRegister(n)\n",
    "    b = ClassicalRegister(n)\n",
    "    qc = QuantumCircuit(q, b)\n",
    "#    qc.h(q[0])\n",
    "    \n",
    "    print(\"Alice, please input random 5-bit string: \")\n",
    "abits = input()\n",
    "print(\"Alice, please input random 5-basis string consisting of X or Z: \")\n",
    "abases = input()\n",
    "print(\"Bob, please input random 5-basis string consisting of X or Z: \")\n",
    "bbases = input()\n",
    "    \n",
    "abit_map = map(int, abits)\n",
    "abit_list = list(abit_map)\n",
    "\n",
    "abases_map = map(str, abases)\n",
    "abases_list = list(abases_map)\n",
    "\n",
    "bbases_map = map(str, bbases)\n",
    "bbases_list = list(bbases_map)\n",
    "\n",
    "\n",
    "\n",
    "def encrypt_qubits(bases, bits, n1):\n",
    "        for i in range(n1):\n",
    "            if bases[i] == 'Z':\n",
    "                if bits[i] == 0:\n",
    "                    pass\n",
    "                else:\n",
    "                    qc.x(q[i])\n",
    "            else:\n",
    "                if bits[i] == 0:\n",
    "                    qc.h(q[i])\n",
    "                else:\n",
    "                    qc.x(q[i])\n",
    "                    qc.h(q[i])\n",
    "encrypt_qubits(abases_list,abit_list, 5)\n",
    "\n",
    "def compare_bases(b1,b2,n2):\n",
    "        goodlist = []\n",
    "        for i in range(n2):\n",
    "            if b1[i] == b2[i]:\n",
    "                goodlist.append(b1[i])\n",
    "            else:\n",
    "                goodlist.append(\"0\")\n",
    "        return goodlist\n",
    "\n",
    "realbases = compare_bases(abases_list,bbases_list,5)\n",
    "print(realbases)\n",
    "\n",
    "def decrypt_qubits(bases, n1):\n",
    "        \n",
    "        for i in range(n1):\n",
    "            if bases[i] == 'Z':\n",
    "                qc.measure(q[i],b[i])\n",
    "                \n",
    "            elif bases[i] == 'X':\n",
    "                qc.h(q[i])\n",
    "                qc.measure(q[i],b[i])\n",
    "                \n",
    "            else:\n",
    "                pass\n",
    "\n",
    "decrypt_qubits(realbases,5)\n",
    "\n",
    "display(qc.draw())\n",
    "#backend_sim = Aer.get_backend('qasm_simulator')\n",
    "#job_sim = execute(qc, backend_sim, shots=1000)\n",
    "#result_sim = job_sim.result()\n",
    "#counts = result_sim.get_counts(qc)\n",
    "#print(counts)\n",
    "\n",
    "\n",
    "qi_job = execute(qc, backend=qi_backend, shots=256)\n",
    "qi_result = qi_job.result()\n",
    "    histogram = qi_result.get_counts(qc)\n",
    "print(\"\\nState\\tCounts\")\n",
    "[print(\"{0}\\t{1}\".format(state, counts)) for state, counts in histogram.items()]"
   ]
  },
  {
   "cell_type": "code",
   "execution_count": null,
   "id": "cdd34753-8e87-4cbb-98dc-45167e1378cd",
   "metadata": {},
   "outputs": [],
   "source": []
  }
 ],
 "metadata": {
  "kernelspec": {
   "display_name": "Python 3 [qBraid]",
   "language": "python",
   "name": "python3_qbraid"
  },
  "language_info": {
   "codemirror_mode": {
    "name": "ipython",
    "version": 3
   },
   "file_extension": ".py",
   "mimetype": "text/x-python",
   "name": "python",
   "nbconvert_exporter": "python",
   "pygments_lexer": "ipython3",
   "version": "3.9.7"
  }
 },
 "nbformat": 4,
 "nbformat_minor": 5
}
